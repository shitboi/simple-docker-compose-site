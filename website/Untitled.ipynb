{
 "cells": [
  {
   "cell_type": "code",
   "execution_count": null,
   "id": "ada25c56",
   "metadata": {},
   "outputs": [],
   "source": [
    "services:\n",
    "    website:\n",
    "        image: nginx\n",
    "        container_name: website\n",
    "        volumes:\n",
    "            - /Users/ayobamishittu/Desktop/ayo/website/index.html:/usr/share/nginx/html\n",
    "        ports:\n",
    "            - 80:80\n",
    "        restart: always"
   ]
  }
 ],
 "metadata": {
  "kernelspec": {
   "display_name": "Python 3 (ipykernel)",
   "language": "python",
   "name": "python3"
  },
  "language_info": {
   "codemirror_mode": {
    "name": "ipython",
    "version": 3
   },
   "file_extension": ".py",
   "mimetype": "text/x-python",
   "name": "python",
   "nbconvert_exporter": "python",
   "pygments_lexer": "ipython3",
   "version": "3.10.8"
  }
 },
 "nbformat": 4,
 "nbformat_minor": 5
}
